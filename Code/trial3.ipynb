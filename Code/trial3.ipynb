{
 "cells": [
  {
   "cell_type": "code",
   "execution_count": 1,
   "metadata": {},
   "outputs": [
    {
     "name": "stderr",
     "output_type": "stream",
     "text": [
      "Using TensorFlow backend.\n"
     ]
    }
   ],
   "source": [
    "from scipy import signal\n",
    "import cv2\n",
    "import numpy as np\n",
    "from keras.models import Sequential\n",
    "from keras.layers import Convolution2D\n",
    "from keras.layers import MaxPooling2D\n",
    "from keras.layers import Flatten\n",
    "from keras.layers import Dense\n",
    "from keras.preprocessing.image import ImageDataGenerator\n",
    "from keras.optimizers import Adam\n",
    "import tensorflow as tf\n",
    "from PIL import Image\n",
    "import pathlib"
   ]
  },
  {
   "cell_type": "code",
   "execution_count": 101,
   "metadata": {},
   "outputs": [],
   "source": [
    "img = cv2.imread(\"Outdoor20.png\");\n",
    "oldmin = np.amin(img)\n",
    "oldmax = np.amax(img)\n",
    "#img1 = np.int16((img - oldmin) * (255 / (oldmax-oldmin)))"
   ]
  },
  {
   "cell_type": "code",
   "execution_count": 102,
   "metadata": {},
   "outputs": [],
   "source": [
    "filt1d_1_1 = np.asarray(signal.firwin2(40,[0.0, 95/img[:,:,0].shape[0] , 105/img[:,:,0].shape[0] ,1.0],[1.0,1.0,0.0,0.0]));\n",
    "filt1d_1_2 = np.asarray(signal.firwin2(40,[0.0, 95/img[:,:,0].shape[1] , 105/img[:,:,0].shape[1] ,1.0],[1.0,1.0,0.0,0.0]));\n",
    "filt2d_1 = np.outer(filt1d_1_1,filt1d_1_2);"
   ]
  },
  {
   "cell_type": "code",
   "execution_count": 103,
   "metadata": {},
   "outputs": [],
   "source": [
    "imgfilt_1 = np.zeros((img.shape[0],img.shape[1],3));\n",
    "imgfilt_1[:,:,0] = signal.convolve2d(img[:,:,0],filt2d_1, mode = 'same');\n",
    "imgfilt_1[:,:,1] = signal.convolve2d(img[:,:,1],filt2d_1, mode = 'same');\n",
    "imgfilt_1[:,:,2] = signal.convolve2d(img[:,:,2],filt2d_1, mode = 'same');\n",
    "res3 = cv2.resize(imgfilt_1,(100, 100));\n",
    "oldmin = np.amin(res3)\n",
    "oldmax = np.amax(res3)\n",
    "res3 = np.int16((res3 - oldmin) * (255 / (oldmax-oldmin)))"
   ]
  },
  {
   "cell_type": "code",
   "execution_count": 104,
   "metadata": {},
   "outputs": [],
   "source": [
    "filt1d_1_1 = np.asarray(signal.firwin2(40,[0.0, 0.45 , 0.55 ,1.0],[1.0,1.0,0.0,0.0]));\n",
    "filt2d_1 = np.outer(filt1d_1_1,filt1d_1_1);\n",
    "res1 = np.zeros((100, 100,3));\n",
    "res2 = np.zeros((100, 100,3));\n",
    "res4 = np.zeros((100, 100,3));\n",
    "less_blur   = np.ones((3,3))/9;\n",
    "medium_blur = np.ones((5,5))/25;\n",
    "high_blur   = np.ones((8,8))/64;\n",
    "res1[:,:,0] = signal.convolve2d(res3[:,:,0],less_blur, mode = 'same');\n",
    "res1[:,:,1] = signal.convolve2d(res3[:,:,1],less_blur, mode = 'same');\n",
    "res1[:,:,2] = signal.convolve2d(res3[:,:,2],less_blur, mode = 'same');\n",
    "res2[:,:,0] = signal.convolve2d(res3[:,:,0],medium_blur, mode = 'same');\n",
    "res2[:,:,1] = signal.convolve2d(res3[:,:,1],medium_blur, mode = 'same');\n",
    "res2[:,:,2] = signal.convolve2d(res3[:,:,2],medium_blur, mode = 'same');\n",
    "res4[:,:,0] = signal.convolve2d(res3[:,:,0],high_blur, mode = 'same');\n",
    "res4[:,:,1] = signal.convolve2d(res3[:,:,1],high_blur, mode = 'same');\n",
    "res4[:,:,2] = signal.convolve2d(res3[:,:,2],high_blur, mode = 'same');"
   ]
  },
  {
   "cell_type": "code",
   "execution_count": 6,
   "metadata": {},
   "outputs": [],
   "source": [
    "cv2.imshow('No Blur', np.uint8(res3))\n",
    "cv2.imshow('Less Blur', np.uint8(res1))\n",
    "cv2.imshow('Medium Blur', np.uint8(res2))\n",
    "cv2.imshow('High Blur',np.uint8(res4))\n",
    "cv2.waitKey(0)\n",
    "cv2.destroyAllWindows()"
   ]
  },
  {
   "cell_type": "code",
   "execution_count": 105,
   "metadata": {},
   "outputs": [],
   "source": [
    "#For all Blurrred Images\n",
    "\n",
    "part0    = np.hstack((res3,res3));#Concating Horizontally  # Points: 0 \n",
    "part1    = np.hstack((res3,res1));#Concating Horizontally  # Points: 1\n",
    "part2    = np.hstack((res3,res2));#Concating Horizontally  # Points: 2\n",
    "part3    = np.hstack((res3,res4));#Concating Horizontally  # Points: 3\n",
    "part4    = np.hstack((res1,res3));#Concating Horizontally  # Points: -1 \n",
    "part5    = np.hstack((res1,res1));#Concating Horizontally  # Points: 0\n",
    "part6    = np.hstack((res1,res2));#Concating Horizontally  # Points: 1\n",
    "part7    = np.hstack((res1,res4));#Concating Horizontally  # Points: 2\n",
    "part8    = np.hstack((res2,res3));#Concating Horizontally  # Points: -2 \n",
    "part9    = np.hstack((res2,res1));#Concating Horizontally  # Points: -1\n",
    "part10   = np.hstack((res2,res2));#Concating Horizontally  # Points: 0\n",
    "part11   = np.hstack((res2,res4));#Concating Horizontally  # Points: 1\n",
    "part12   = np.hstack((res4,res3));#Concating Horizontally  # Points: -3 \n",
    "part13   = np.hstack((res4,res1));#Concating Horizontally  # Points: -2\n",
    "part14   = np.hstack((res4,res2));#Concating Horizontally  # Points: -1\n",
    "part15   = np.hstack((res4,res4));#Concating Horizontally  # Points: 0"
   ]
  },
  {
   "cell_type": "code",
   "execution_count": 106,
   "metadata": {},
   "outputs": [],
   "source": [
    "# For all Blurred Images\n",
    "\n",
    "im = Image.fromarray(np.uint8(part0))\n",
    "im.save(pathlib.Path.cwd()/'combos'/'train'/'0'/'Outdoor20_0.png')\n",
    "im = Image.fromarray(np.uint8(part1))\n",
    "im.save(pathlib.Path.cwd()/'combos'/'train'/'1'/'Outdoor20_1.png')\n",
    "im = Image.fromarray(np.uint8(part2))\n",
    "im.save(pathlib.Path.cwd()/'combos'/'train'/'2'/'Outdoor20_2.png')\n",
    "im = Image.fromarray(np.uint8(part3))\n",
    "im.save(pathlib.Path.cwd()/'combos'/'train'/'3'/'Outdoor20_3.png')\n",
    "im = Image.fromarray(np.uint8(part4))\n",
    "im.save(pathlib.Path.cwd()/'combos'/'train'/'-1'/'Outdoor20_4.png')\n",
    "im = Image.fromarray(np.uint8(part5))\n",
    "im.save(pathlib.Path.cwd()/'combos'/'train'/'0'/'Outdoor20_5.png')\n",
    "im = Image.fromarray(np.uint8(part6))\n",
    "im.save(pathlib.Path.cwd()/'combos'/'train'/'1'/'Outdoor20_6.png')\n",
    "im = Image.fromarray(np.uint8(part7))\n",
    "im.save(pathlib.Path.cwd()/'combos'/'train'/'2'/'Outdoor20_7.png')\n",
    "im = Image.fromarray(np.uint8(part8))\n",
    "im.save(pathlib.Path.cwd()/'combos'/'train'/'-2'/'Outdoor20_8.png')\n",
    "im = Image.fromarray(np.uint8(part9))\n",
    "im.save(pathlib.Path.cwd()/'combos'/'train'/'-1'/'Outdoor20_9.png')\n",
    "im = Image.fromarray(np.uint8(part10))\n",
    "im.save(pathlib.Path.cwd()/'combos'/'train'/'0'/'Outdoor20_10.png')\n",
    "im = Image.fromarray(np.uint8(part11))\n",
    "im.save(pathlib.Path.cwd()/'combos'/'train'/'1'/'Outdoor20_11.png')\n",
    "im = Image.fromarray(np.uint8(part12))\n",
    "im.save(pathlib.Path.cwd()/'combos'/'train'/'-3'/'Outdoor20_12.png')\n",
    "im = Image.fromarray(np.uint8(part13))\n",
    "im.save(pathlib.Path.cwd()/'combos'/'train'/'-2'/'Outdoor20_13.png')\n",
    "im = Image.fromarray(np.uint8(part14))\n",
    "im.save(pathlib.Path.cwd()/'combos'/'train'/'-1'/'Outdoor20_14.png')\n",
    "im = Image.fromarray(np.uint8(part15))\n",
    "im.save(pathlib.Path.cwd()/'combos'/'train'/'0'/'Outdoor20_15.png')"
   ]
  },
  {
   "cell_type": "code",
   "execution_count": 139,
   "metadata": {},
   "outputs": [],
   "source": [
    "# Testing blurred images\n",
    "\n",
    "im = Image.fromarray(np.uint8(part5))\n",
    "im.save(pathlib.Path.cwd()/'combos'/'test'/'0'/'Outdoor20_5.png')\n",
    "im = Image.fromarray(np.uint8(part6))\n",
    "im.save(pathlib.Path.cwd()/'combos'/'test'/'1'/'Outdoor20_6.png')\n",
    "im = Image.fromarray(np.uint8(part9))\n",
    "im.save(pathlib.Path.cwd()/'combos'/'test'/'-1'/'Outdoor20_9.png')\n",
    "im = Image.fromarray(np.uint8(part7))\n",
    "im.save(pathlib.Path.cwd()/'combos'/'test'/'2'/'Outdoor20_7.png')\n",
    "im = Image.fromarray(np.uint8(part8))\n",
    "im.save(pathlib.Path.cwd()/'combos'/'test'/'-2'/'Outdoor20_8.png')\n",
    "im = Image.fromarray(np.uint8(part3))\n",
    "im.save(pathlib.Path.cwd()/'combos'/'test'/'3'/'Outdoor20_3.png')\n",
    "im = Image.fromarray(np.uint8(part12))\n",
    "im.save(pathlib.Path.cwd()/'combos'/'test'/'-3'/'Outdoor20_12.png')"
   ]
  },
  {
   "cell_type": "code",
   "execution_count": null,
   "metadata": {},
   "outputs": [],
   "source": []
  }
 ],
 "metadata": {
  "kernelspec": {
   "display_name": "Python 3",
   "language": "python",
   "name": "python3"
  },
  "language_info": {
   "codemirror_mode": {
    "name": "ipython",
    "version": 3
   },
   "file_extension": ".py",
   "mimetype": "text/x-python",
   "name": "python",
   "nbconvert_exporter": "python",
   "pygments_lexer": "ipython3",
   "version": "3.6.7"
  }
 },
 "nbformat": 4,
 "nbformat_minor": 2
}
