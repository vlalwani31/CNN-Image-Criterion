{
 "cells": [
  {
   "cell_type": "code",
   "execution_count": 155,
   "metadata": {},
   "outputs": [],
   "source": [
    "from scipy import signal\n",
    "import cv2\n",
    "import numpy as np\n",
    "from keras.models import Sequential\n",
    "from keras.layers import Convolution2D\n",
    "from keras.layers import MaxPooling2D\n",
    "from keras.layers import Flatten\n",
    "from keras.layers import Dense\n",
    "import tensorflow as tf\n",
    "from PIL import Image\n",
    "import pathlib\n",
    "import random\n",
    "import time"
   ]
  },
  {
   "cell_type": "code",
   "execution_count": 159,
   "metadata": {},
   "outputs": [],
   "source": [
    "img = cv2.imread(\"Outdoor15.png\");\n",
    "img = cv2.cvtColor(img, cv2.COLOR_BGR2RGB)\n",
    "dimension = 200;\n",
    "img = cv2.resize(img,(dimension,dimension));\n",
    "#prac = np.zeros((100,100,3));\n",
    "#cv2.imshow('try',prac)#cv2.cvtColor(img,cv2.COLOR_BGR2GRAY))\n",
    "#cv2.waitKey(0)\n",
    "#cv2.destroyAllWindows()\n",
    "res3 = img;\n",
    "Images_to_run_on = []\n",
    "Images_to_run_on.append(img);\n",
    "res1 = np.zeros((dimension, dimension,3));\n",
    "res2 = np.zeros((dimension, dimension,3));\n",
    "res4 = np.zeros((dimension, dimension,3));\n",
    "res5 = np.zeros((dimension, dimension,3));\n",
    "res6 = np.zeros((dimension, dimension,3));\n",
    "res7 = np.zeros((dimension, dimension,3));"
   ]
  },
  {
   "cell_type": "code",
   "execution_count": 147,
   "metadata": {},
   "outputs": [
    {
     "name": "stdout",
     "output_type": "stream",
     "text": [
      "4\n"
     ]
    }
   ],
   "source": [
    "less_blur   = np.ones((int(np.round(3*dimension/100)),int(np.round(3*dimension/100))))/((np.round(3*dimension/100))**2);\n",
    "medium_blur = np.ones((int(np.round(5*dimension/100)),int(np.round(5*dimension/100))))/((np.round(5*dimension/100))**2);\n",
    "high_blur   = np.ones((int(np.round(8*dimension/100)),int(np.round(8*dimension/100))))/((np.round(8*dimension/100))**2);\n",
    "res1[:,:,0] = signal.convolve2d(res3[:,:,0],less_blur, mode = 'same');\n",
    "res1[:,:,1] = signal.convolve2d(res3[:,:,1],less_blur, mode = 'same');\n",
    "res1[:,:,2] = signal.convolve2d(res3[:,:,2],less_blur, mode = 'same');\n",
    "res2[:,:,0] = signal.convolve2d(res3[:,:,0],medium_blur, mode = 'same');\n",
    "res2[:,:,1] = signal.convolve2d(res3[:,:,1],medium_blur, mode = 'same');\n",
    "res2[:,:,2] = signal.convolve2d(res3[:,:,2],medium_blur, mode = 'same');\n",
    "res4[:,:,0] = signal.convolve2d(res3[:,:,0],high_blur, mode = 'same');\n",
    "res4[:,:,1] = signal.convolve2d(res3[:,:,1],high_blur, mode = 'same');\n",
    "res4[:,:,2] = signal.convolve2d(res3[:,:,2],high_blur, mode = 'same');\n",
    "Images_to_run_on.append(res1);\n",
    "Images_to_run_on.append(res2);\n",
    "Images_to_run_on.append(res4);\n",
    "np.random.seed(int(time.time()))\n",
    "print(np.array(Images_to_run_on).shape[0])"
   ]
  },
  {
   "cell_type": "code",
   "execution_count": 148,
   "metadata": {},
   "outputs": [],
   "source": [
    "p = 0.04;\n",
    "for i in range(dimension):\n",
    "    for j in range(dimension):\n",
    "        r = random.random();\n",
    "        if(r < p/2):#Pepper\n",
    "            res5[i][j] = [0,0,0];\n",
    "        elif(r < p):#Salt\n",
    "            res5[i][j] = [255,255,255];\n",
    "        else:\n",
    "            res5[i][j] = img[i][j];\n",
    "p = 0.1;\n",
    "for i in range(dimension):\n",
    "    for j in range(dimension):\n",
    "        r = random.random();\n",
    "        if(r < p/2):#Pepper\n",
    "            res6[i][j] = [0,0,0];\n",
    "        elif(r < p):#Salt\n",
    "            res6[i][j] = [255,255,255];\n",
    "        else:\n",
    "            res6[i][j] = img[i][j];\n",
    "p = 0.2;\n",
    "for i in range(dimension):\n",
    "    for j in range(dimension):\n",
    "        r = random.random();\n",
    "        if(r < p/2):#Pepper\n",
    "            res7[i][j] = [0,0,0];\n",
    "        elif(r < p):#Salt\n",
    "            res7[i][j] = [255,255,255];\n",
    "        else:\n",
    "            res7[i][j] = img[i][j];\n",
    "Images_to_run_on.append(res5);\n",
    "Images_to_run_on.append(res6);\n",
    "Images_to_run_on.append(res7);"
   ]
  },
  {
   "cell_type": "code",
   "execution_count": 149,
   "metadata": {},
   "outputs": [],
   "source": [
    "less_noise = np.random.normal(0,20,(dimension,dimension,3));\n",
    "less_noise = less_noise.reshape(dimension,dimension,3);\n",
    "less_noise = less_noise + img;\n",
    "res5 = [np.uint8(np.clip(i,0,255)) for i in less_noise]\n",
    "medium_noise = np.random.normal(0,50,(dimension,dimension,3));\n",
    "medium_noise = medium_noise.reshape(dimension,dimension,3);\n",
    "medium_noise = medium_noise + img\n",
    "res6 = [np.uint8(np.clip(i,0,255)) for i in medium_noise]\n",
    "high_noise = np.random.normal(0,100,(dimension,dimension,3));\n",
    "high_noise = high_noise.reshape(dimension,dimension,3);\n",
    "high_noise = high_noise + img\n",
    "res7 = [np.uint8(np.clip(i,0,255)) for i in high_noise]\n",
    "Images_to_run_on.append(res5);\n",
    "Images_to_run_on.append(res6);\n",
    "Images_to_run_on.append(res7);"
   ]
  },
  {
   "cell_type": "code",
   "execution_count": 143,
   "metadata": {},
   "outputs": [],
   "source": [
    "#print(res3.shape)\n",
    "#print(res3[:,:,1])\n",
    "cv2.imshow('No Blur', np.uint8(res3))\n",
    "cv2.imshow('Less Blur', np.uint8(res1))\n",
    "cv2.imshow('Medium Blur', np.uint8(res2))\n",
    "cv2.imshow('High Blur',np.uint8(res4))\n",
    "cv2.imshow('Less Salt N Pepper', np.uint8(res5))\n",
    "cv2.imshow('Medium Salt N Pepper', np.uint8(res6))\n",
    "cv2.imshow('High Salt N Pepper',np.uint8(res7))\n",
    "cv2.waitKey(0)\n",
    "cv2.destroyAllWindows()\n"
   ]
  },
  {
   "cell_type": "code",
   "execution_count": 150,
   "metadata": {},
   "outputs": [
    {
     "name": "stdout",
     "output_type": "stream",
     "text": [
      "(10, 10)\n",
      "(10, 200, 200, 3)\n",
      "-3\n"
     ]
    }
   ],
   "source": [
    "A = np.array([[0,1,2,3,1,2,3,1,2,3],\\\n",
    "              [-1,0,1,2,-1,1,3,0,1,3],\\\n",
    "              [-2,-1,0,1,-2,0,1,-2,0,1],\\\n",
    "              [-3,-2,-1,0,-3,-1,0,-3,-1,0],\\\n",
    "              [-1,1,2,3,0,1,2,0,1,2],\\\n",
    "              [-2,-1,0,1,-1,0,1,-1,0,1],\\\n",
    "              [-3,-3,-1,0,-2,-1,0,-2,-1,0],\\\n",
    "              [-1,-0,2,3,0,1,2,0,1,2],\\\n",
    "              [-2,-1,0,1,-1,0,1,-1,0,1],\\\n",
    "              [-3,-3,-1,0,-2,-1,0,-2,-1,0]]);\n",
    "print(A.shape)\n",
    "print(np.array(Images_to_run_on).shape)\n",
    "print(str(-3))"
   ]
  },
  {
   "cell_type": "code",
   "execution_count": 154,
   "metadata": {},
   "outputs": [],
   "source": [
    "for i in range(np.array(Images_to_run_on).shape[0]):\n",
    "    for j in range(np.array(Images_to_run_on).shape[0]):\n",
    "        im = Image.fromarray(np.uint8(np.hstack((Images_to_run_on[i],Images_to_run_on[j]))))\n",
    "        im.save(pathlib.Path.cwd()/'faulty'/'test'/str(A[i,j])/('Shinchan_' + str((i*np.array(Images_to_run_on).shape[0]) + j) + '.tif'))\n",
    "        "
   ]
  },
  {
   "cell_type": "code",
   "execution_count": 162,
   "metadata": {},
   "outputs": [],
   "source": [
    "res1 = img * 0.7;\n",
    "res2 = img * 0.40;\n",
    "res4 = img * 0.15;\n",
    "Images_to_run_on.append(res1)\n",
    "Images_to_run_on.append(res2)\n",
    "Images_to_run_on.append(res4)"
   ]
  },
  {
   "cell_type": "code",
   "execution_count": 163,
   "metadata": {},
   "outputs": [],
   "source": [
    "for i in range(np.array(Images_to_run_on).shape[0]):\n",
    "    im = Image.fromarray(np.uint8(Images_to_run_on[i]))\n",
    "    im.save(pathlib.Path.cwd()/'trial_imgs'/('Outdoor15_' + str(i) + '.tif'))"
   ]
  },
  {
   "cell_type": "code",
   "execution_count": null,
   "metadata": {},
   "outputs": [],
   "source": []
  }
 ],
 "metadata": {
  "kernelspec": {
   "display_name": "Python 3",
   "language": "python",
   "name": "python3"
  },
  "language_info": {
   "codemirror_mode": {
    "name": "ipython",
    "version": 3
   },
   "file_extension": ".py",
   "mimetype": "text/x-python",
   "name": "python",
   "nbconvert_exporter": "python",
   "pygments_lexer": "ipython3",
   "version": "3.6.7"
  }
 },
 "nbformat": 4,
 "nbformat_minor": 2
}
